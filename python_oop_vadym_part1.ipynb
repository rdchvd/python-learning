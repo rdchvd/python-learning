{
  "metadata": {
    "kernelspec": {
      "name": "python",
      "display_name": "Python (Pyodide)",
      "language": "python"
    },
    "language_info": {
      "codemirror_mode": {
        "name": "python",
        "version": 3
      },
      "file_extension": ".py",
      "mimetype": "text/x-python",
      "name": "python",
      "nbconvert_exporter": "python",
      "pygments_lexer": "ipython3",
      "version": "3.8"
    }
  },
  "nbformat_minor": 5,
  "nbformat": 4,
  "cells": [
    {
      "id": "cab6595a-9489-4863-9ef9-b7ee42550420",
      "cell_type": "markdown",
      "source": "Цей урок охоплює основи обʼєктно-орієнтованого програмування (ООП) в Python.\n\n---\n\n### 1. Що таке клас?\n\n**Клас** в Python — це шаблон або модель для створення об'єктів. Він визначає атрибути (характеристики) та методи (функції), які будуть доступні об'єктам цього класу.\n\nУяви, що клас — це план будівництва, а об'єкти — це конкретні будівлі, побудовані за цим планом.\n\n#### Приклад:\n",
      "metadata": {}
    },
    {
      "id": "7b68e08e-8a1d-465e-b193-6a5da786e326",
      "cell_type": "code",
      "source": "class Building:\n    pass  # клас без функціональності, просто шаблон\n\nhome1 = Building()  # створення об'єкта home1 класу Building",
      "metadata": {
        "trusted": true
      },
      "outputs": [],
      "execution_count": null
    },
    {
      "id": "8450f20e-782b-4127-acac-5af52350d644",
      "cell_type": "markdown",
      "source": "### 2. Що таке об'єкти?\n*Об'єкти* — це екземпляри класу. Якщо клас — це шаблон, то об'єкти — це його конкретні реалізації. Об'єкти мають атрибути (характеристики) і можуть викликати методи (дії).\nУ попередньому прикладі клас `Building` має обʼєкт `home1`. Ще кажуть, що `home1` - обʼєкт класу `Building` або те, що тип змінної `home1` - `Building`. \n\n*Так, `a = 1` має тип `int`, тобто є обʼєктом класу `int`.*\n",
      "metadata": {}
    },
    {
      "id": "9bedf290-ab8d-4323-b47b-33743c547364",
      "cell_type": "markdown",
      "source": "### 3. Конструктор __init__(self)\n**Конструктор** - це місце ініціалізації екземплярів класів. У python це магічна функція (або краще сказати метод) `__init__()`.\nПри ініціалізації ми встановлюємо всі початкові атрибути, які має мати обʼєкт. \n\n*Наприклад, перший наш дім має 9 поверхів, сірого кольору і побудований у 1999 році. Другий дім має 2 поверхи, червоного кольору та побудований у 2022 році.*\n\nЦі аргументи маємо прийняти у функції `__init__` та поставити їх обʼєктам.\n\n**Важливо знати**, що першим аргументом у всіх методах (крім *classmethod* та *staticmethod*, але про це нижче) є слово **self**.\n\n**self** - це вказівник на обʼєкт всередині класу. \n\n*Так, ми створюємо якийсь дім за шаблоном та за допомогою **self** можемо встановити потрібні нам характеристики.* \n\nЗвучить складно, буде легше за прикладом, але варто розуміти, що self - це як я для обʼєкта.\n#### Приклад:",
      "metadata": {}
    },
    {
      "id": "e04c0f93-8ffa-4f9c-9d0a-acb3f3d269b2",
      "cell_type": "code",
      "source": "class Building:\n    def __init__(self, levels_number: int, color: str, est_year: int):\n        self.levels_number = levels_number\n        self.color = color\n        self.established_at = est_year\n\n\n\nskyscrapper = Building(9, \"gray\", 1999)\nhome = Building(2, color=\"red\", est_year=2022)",
      "metadata": {
        "trusted": true
      },
      "outputs": [],
      "execution_count": null
    },
    {
      "id": "b6b40ab5-4f8d-400b-bed0-35bdce37b176",
      "cell_type": "markdown",
      "source": "Роздрукуємо типи `skyscrapper` та `home`:",
      "metadata": {}
    },
    {
      "id": "2537878f-29c2-4ef6-ad77-bf50bc997508",
      "cell_type": "code",
      "source": "print(type(skyscrapper), type(home))",
      "metadata": {
        "trusted": true
      },
      "outputs": [],
      "execution_count": null
    },
    {
      "id": "2ab7fd69-b768-40c2-b17f-7f7ccfde8d48",
      "cell_type": "code",
      "source": "print(f\"First house is {skyscrapper.color} but the second one is more fun, it's {home.color}!\")",
      "metadata": {
        "trusted": true
      },
      "outputs": [],
      "execution_count": null
    },
    {
      "id": "556c2678-46c3-4c20-b58b-944eaa202824",
      "cell_type": "markdown",
      "source": "Тепер додамо функціонал для того, щоб виводити гарно всі атрибути для кожного обʼєкту, а також додамо дефолтний аргумент `name`:",
      "metadata": {}
    },
    {
      "id": "9d71781b-64da-4329-993c-665e0c2291ff",
      "cell_type": "code",
      "source": "class Building:\n    def __init__(self, levels_number: int, color: str, est_year: int, name: str = \"Building\"):\n        self.levels_number = levels_number\n        self.color = color\n        self.established_at = est_year\n        self.name = name\n\n    def get_info(self):\n        return f\"Hey I'm {self.name}! I was built in {self.established_at}, I was made {self.color} with {self.levels_number} floors.\"\n\n\nskyscrapper = Building(9, \"gray\", 1999)\nhome = Building(2, color=\"red\", est_year=2022, name=\"Sunny\")\n\nprint(skyscrapper.get_info())\nprint()\nprint(home.get_info())",
      "metadata": {
        "trusted": true
      },
      "outputs": [],
      "execution_count": null
    },
    {
      "id": "a6f3d333-2cfd-4b0d-9d0f-fbfb4e215153",
      "cell_type": "markdown",
      "source": "### 4. Методи та Атрибути\n\n**Атрибути** — це характеристики об'єкта. У класі `Building` атрибутами є:\n\n-   `levels_number`: кількість поверхів.\n-   `color`: колір будівлі.\n-   `established_at`: рік побудови.\n-   `name`: назва будівлі.\n\n**Методи** — це функції, які описують поведінку об'єкта. У класі `Building` метод `get_info()` надає інформацію про будівлю.\n\nАтрибути можуть бути атрибутами класу, тоді вони можуть бути як дефолтними параметрами, які ми можемо змінювати під кожен обʼєкт.\n#### Приклад:",
      "metadata": {}
    },
    {
      "id": "f87393e8-1aed-47d3-89e7-6684beeeadfd",
      "cell_type": "code",
      "source": "class Building:\n    # class attributes\n    builder_company = None\n    is_under_construction = False\n    \n    def __init__(self, levels_number: int, color: str, est_year: int, name: str = \"Building\", builder_company = None):\n        self.levels_number = levels_number\n        self.color = color\n        self.established_at = est_year\n        self.name = name\n        if builder_company:\n            self.builder_company = builder_company\n\n    def get_info(self):\n        info = f\"Hey I'm {self.name}! I was built in {self.established_at}, I was made {self.color} with {self.levels_number} floors.\"\n        # getting class attrs by self as the usual ones\n        if self.builder_company:\n            info += f\"\\nI was built by `{self.builder_company}`!\"\n        if self.is_under_construction:\n            info += f\"\\nSorry, you cannot live in me yet :(\"\n        return info\n\n    def do_constructions(self):\n        print(\"Building......\")\n        self.is_under_construction = True\n",
      "metadata": {
        "trusted": true
      },
      "outputs": [],
      "execution_count": null
    },
    {
      "id": "96d01c45-6601-43e5-8bbe-d9863fb5240c",
      "cell_type": "code",
      "source": "lviv_city_building = Building(levels_number=2, color=\"gray\", est_year=1990)\nprint(lviv_city_building.get_info())",
      "metadata": {
        "trusted": true
      },
      "outputs": [],
      "execution_count": null
    },
    {
      "id": "474c6405-6128-4369-8461-6c7e5d2a4c6e",
      "cell_type": "code",
      "source": "lviv_city_building.do_constructions()",
      "metadata": {
        "trusted": true
      },
      "outputs": [],
      "execution_count": null
    },
    {
      "id": "249a381f-2dbd-4ea3-ae88-eff07febed22",
      "cell_type": "code",
      "source": "print(lviv_city_building.get_info())",
      "metadata": {
        "trusted": true
      },
      "outputs": [],
      "execution_count": null
    },
    {
      "id": "3458640c-f308-4bf3-b319-42a5c1ffbd3d",
      "cell_type": "code",
      "source": "avalon_house = Building(levels_number=2, color=\"gray\", est_year=1990, builder_company=\"Avalon\")\nprint(avalon_house.get_info())",
      "metadata": {
        "trusted": true
      },
      "outputs": [],
      "execution_count": null
    },
    {
      "id": "d2c40c55-05df-45e5-a51d-03d457d5a5d0",
      "cell_type": "markdown",
      "source": "*Уявімо, до нас прийшов забудовник **Avalon**, який має мережу ЖК у Львові, і хоче задокументувати всі свої будинки. \nВони будуть всі чорними, та всі назви починаються зі слова \"Avalon\", а закінчуються словом \"ЖК\".\nДавай створимо 5 таких будинків:*",
      "metadata": {}
    },
    {
      "id": "87210a11-30f0-4ad7-b190-d0f00c8924e2",
      "cell_type": "code",
      "source": "avalon_skyscrapper1 = Building(22, \"black\", 2018, \"Avalon Prime ЖК\", builder_company=\"Avalon\")\navalon_skyscrapper2 = Building(18, \"black\", 2019, \"Avalon Gold ЖК\", builder_company=\"Avalon\")\navalon_skyscrapper3 = Building(20, \"black\", 2018, \"Avalon Ultra ЖК\", builder_company=\"Avalon\")\navalon_skyscrapper4 = Building(22, \"black\", 2022, \"Avalon UK ЖК\", builder_company=\"Avalon\")\navalon_skyscrapper5 = Building(21, \"black\", 2023, \"Avalon City ЖК\", builder_company=\"Avalon\")\n\nprint(avalon_skyscrapper1.get_info())\nprint()\nprint(avalon_skyscrapper4.get_info())",
      "metadata": {
        "trusted": true
      },
      "outputs": [],
      "execution_count": null
    },
    {
      "id": "a6c692eb-c937-4ec6-8f10-1c1fcc760bc9",
      "cell_type": "markdown",
      "source": "Непогано? Але може бути краще!\nДля цього нам знадобиться **наслідування**!\n### 5. Наслідування\n**Наслідування** - це те саме, як воно звучить. Клас - це шаблон побудови обʼєктів. Наслідування дозволяє нам перевикористовувати шаблони з деякими змінами (або навіть без них) для кращої структуризації, а також для того, щоб писати менше коду.\n\nНижче ти побачиш нову для себе функцію `super()`, розповім трохи про неї.\n`super()` — це вбудована функція Python, яка дозволяє отримати доступ до методів батьківського класу в класі-дитині. Вона використовується головним чином для розширення функціоналу батьківських класів.\n\nУ прикладі нижче ми використовуємо виклик до `super().__init__(*args, **kwargs)` - це наче як виклик виконання ініціалізації у батьківського класу, типу кажемо - я зараз викличу функцію, яка називається як моя, але хочу, щоб python взяв і виконав її так, як написано у батьківському класі, а не в мені. Таким чином, у нашому init-і ми можемо написати менше параметрів, а передати вже нам відомі параметри за допомогою `super()`. Це можна застосовувати до всіх методів, не тільки `__init__`.\n\n#### Приклад:",
      "metadata": {}
    },
    {
      "id": "9648d5bb-3f57-4f2f-a9f7-5231897efd3c",
      "cell_type": "code",
      "source": "# the same as the parent class, just with another name\n\nclass LvivCityBuilding(Building):\n    pass\n\n\nclass AvalonBuilding(Building):\n    builder_company = \"Avalon\"\n    color = \"black\"\n    \n    def __init__(self, levels_number: int, est_year: int, name: str):\n        name = f\"Avalon {name} ЖК\"\n        super().__init__(\n            levels_number=levels_number, \n            est_year=est_year, \n            name=name, \n            color=self.color,\n            builder_company = self.builder_company\n        )\n",
      "metadata": {
        "trusted": true
      },
      "outputs": [],
      "execution_count": null
    },
    {
      "id": "a5af0c60-233e-4bae-beff-30a80e69184c",
      "cell_type": "code",
      "source": "avalon_skyscrapper1 = AvalonBuilding(22, 2018, \"Prime\")\navalon_skyscrapper2 = AvalonBuilding(18, 2019, \"Gold\")\navalon_skyscrapper3 = AvalonBuilding(20, 2018, \"Ultra\")\navalon_skyscrapper4 = AvalonBuilding(22, 2022, \"UK\")\navalon_skyscrapper5 = AvalonBuilding(21, 2023, \"City\")",
      "metadata": {
        "trusted": true
      },
      "outputs": [],
      "execution_count": null
    },
    {
      "id": "ca55f9d0-ec1f-4cc2-8583-3ae7376e3203",
      "cell_type": "markdown",
      "source": "так краще, правда?",
      "metadata": {}
    },
    {
      "id": "1eb98d2f-6f64-48a1-874b-43fcdaa36626",
      "cell_type": "code",
      "source": "print(type(avalon_skyscrapper2))",
      "metadata": {
        "trusted": true
      },
      "outputs": [],
      "execution_count": null
    },
    {
      "id": "955e3fc8-62b4-49f9-9c26-5f3a99a12ff4",
      "cell_type": "code",
      "source": "print(avalon_skyscrapper2.get_info())",
      "metadata": {
        "trusted": true
      },
      "outputs": [],
      "execution_count": null
    },
    {
      "id": "cbe51bdf-73c6-4a5b-9641-f0aac0f01fd1",
      "cell_type": "markdown",
      "source": "як бачиш, нам не треба переписувати функціонал, який вже існує",
      "metadata": {}
    },
    {
      "id": "cbe504ef-729e-44a7-9add-8d9cf6ec53ba",
      "cell_type": "markdown",
      "source": "Давай також створимо  обʼєкт класу `LvivCityBuilding` і подивимося як він веде себе:",
      "metadata": {}
    },
    {
      "id": "a0b55073-aea9-41ee-ac91-229aa53fad8d",
      "cell_type": "code",
      "source": "lviv_city_house = LvivCityBuilding(7, \"green\", 2009)\nprint(type(lviv_city_house))\nprint(lviv_city_house.get_info())",
      "metadata": {
        "trusted": true
      },
      "outputs": [],
      "execution_count": null
    },
    {
      "id": "01f822da-8823-419b-8401-e532b30ec831",
      "cell_type": "markdown",
      "source": "Ще приклад використання `super()`. Тут спробуємо створити район з домівками, які можуть бути максимум 3 поверхи і не мають мати нудних кольорів.\n\nУ прикладі є також `Building`, у який зверни увагу - додала перевірку на те, чи є у будівлі мінімум 1 поверх.\nПотім створємо новий тип дому `CozyHomeBuilding`, який також перевіряє на те, чи дім не зависокий, чи не має нудний колір та чи він побудований з 2018 року (рік, коли за легендою цей район почав будуватися).\n\n*Як бачиш, нам не треба у домі-нащадку ще раз викликати валідацію кількості поверхів, так як вона викликається у батьківському класі.\nТакож додаємо в клас атрибут `all_houses` - це список, а значить ми зберігаємо комірку памʼяті, що дає нам можливість бачити список всіх домів з кожного окрмого дому, цей атрибут буде змінюватися однаково для всіх домів.*\n\nІ навпаки атрибут `house_number` хоча і створюється так само, але ми зберігаємо значення, а не комірку памʼяті, тому для кожного дому спочатку він буде `None`, а не те що було у попередньому домі.",
      "metadata": {}
    },
    {
      "id": "f53a53af-3ac5-4080-8d67-df686689c7c9",
      "cell_type": "code",
      "source": "class Building:\n    # class attributes\n    builder_company = None\n    is_under_construction = False\n    is_valid = True\n    \n    def __init__(self, levels_number: int, color: str, est_year: int, name: str = \"Building\", builder_company = None):\n\n        self.validate_levels_number(levels_number)\n        if not self.is_valid:\n            return\n        self.levels_number = levels_number\n        self.color = color\n        self.established_at = est_year\n        self.name = name\n        if builder_company:\n            self.builder_company = builder_company\n\n    def validate_levels_number(self, levels_number):\n        # new check to see if we have at least 1 floor\n        if levels_number < 1:\n            print(\"A house of this type should have at least one floor\")\n            self.is_valid = False\n\n    def get_info(self):\n        info = f\"Hey I'm {self.name}! I was built in {self.established_at}, I was made {self.color} with {self.levels_number} floors.\"\n        # getting class attrs by self as the usual ones\n        if self.builder_company:\n            info += f\"\\nI was built by `{self.builder_company}`!\"\n        if self.is_under_construction:\n            info += f\"\\nSorry, you cannot live in me yet :(\"\n        return info\n\n    def do_constructions(self):\n        print(\"Building......\")\n        self.is_under_construction = True\n        \n\nclass CozyHomeBuilding(Building):\n    BANNED_COLORS = [\"black\", \"gray\", \"white\"]\n    MAX_FLOORS_NUMBER = 3\n    EST_FROM = 2018\n    NAME_TEMPLATE = \"CozyHome # {house_number}\"\n\n    # it's an mutable object, so we will have a link to the same memory cell. \n    # This means all buildings of this class will have the same list\n    all_houses = []\n    house_number = None\n    \n    def __init__(self, levels_number: int, est_year: int, color: str):\n        # get custom name and do some validations\n        name = self.get_name()\n        self.validate_color(color)\n        self.validate_est_year(est_year)\n        \n        # create building object\n        # see, we don't need to call validate_levels_number as it's being called in parent init\n        super().__init__(\n            levels_number=levels_number, \n            est_year=est_year, \n            name=name, \n            color=color\n        )\n        if not self.is_valid:\n            return\n\n        # add a new house to the list!\n        self.all_houses.append(self)\n        print(f\"{self.house_number} before initialization should be None by default.\")\n        self.house_number = len(self.all_houses)\n        print(f\"{self.house_number} after initialization should be integer now.\")\n        \n\n    def get_name(self):\n        previous_house_counter = len(self.all_houses)\n        return self.NAME_TEMPLATE.format(house_number=previous_house_counter)\n\n    def validate_levels_number(self, levels_number):\n        # call paret validation to validate minimum floors\n        super().validate_levels_number(levels_number)\n        # add additional check with max number of floors \n        if levels_number > self.MAX_FLOORS_NUMBER:\n            print(f\"This type of house can have a maximum of {self.MAX_FLOORS_NUMBER} floors\")\n            self.is_valid = False\n            \n\n    def validate_color(self, color):\n        if color in self.BANNED_COLORS:\n            print(f\"You cannot use {color} for this building. Allowed colors: {self.BANNED_COLORS}\")\n            self.is_valid = False\n\n    def validate_est_year(self, est_year):\n        if est_year < self.EST_FROM:\n            print(f\"This house could not have been built earlier than {self.EST_FROM}.\")\n            self.is_valid = False\n",
      "metadata": {
        "trusted": true
      },
      "outputs": [],
      "execution_count": null
    },
    {
      "id": "6fd64206-56ea-4fcb-9027-9867d4f97136",
      "cell_type": "code",
      "source": "# this will raise an error from parent class\nfirst_cozy_home = CozyHomeBuilding(0, 2018, \"red\")",
      "metadata": {
        "trusted": true
      },
      "outputs": [],
      "execution_count": null
    },
    {
      "id": "c26fa11e-1d98-4f41-9698-066bd5b79941",
      "cell_type": "code",
      "source": "# this will raise an error from child class\nsecond_cozy_home = CozyHomeBuilding(25, 2018, \"red\")",
      "metadata": {
        "trusted": true
      },
      "outputs": [],
      "execution_count": null
    },
    {
      "id": "697228ac-0d1a-4f6e-a5ce-67ee26b9ada5",
      "cell_type": "code",
      "source": "# this won't raise any errors\nfirst_cozy_home = CozyHomeBuilding(2, 2018, \"red\")\nsecond_cozy_home = CozyHomeBuilding(3, 2018, \"yellow\")\nprint(f\"Houses after we created two: {len(second_cozy_home.all_houses)}\")",
      "metadata": {
        "trusted": true
      },
      "outputs": [],
      "execution_count": null
    },
    {
      "id": "17808e71-aa39-4b3d-b90b-f1a6158162d1",
      "cell_type": "code",
      "source": "third_cozy_home = CozyHomeBuilding(1, 2018, \"green\")",
      "metadata": {
        "trusted": true
      },
      "outputs": [],
      "execution_count": null
    },
    {
      "id": "24e1ebfc-949f-430b-b613-6d08f3c6b813",
      "cell_type": "code",
      "source": "print(f\"Houses after we created third [from second object]: {len(second_cozy_home.all_houses)}\")\nprint(f\"Houses after we created third [from third object]: {len(third_cozy_home.all_houses)}\")\n\n\nprint(first_cozy_home.get_info())\nprint(second_cozy_home.get_info())\nprint(third_cozy_home.get_info())",
      "metadata": {
        "trusted": true
      },
      "outputs": [],
      "execution_count": null
    },
    {
      "id": "a9d9baea-bd71-474e-b4bd-6e4a6fd7e1ce",
      "cell_type": "code",
      "source": "# we can do also something like as we have all houses:\nfor house in third_cozy_home.all_houses:\n    print(house.get_info())",
      "metadata": {
        "trusted": true
      },
      "outputs": [],
      "execution_count": null
    },
    {
      "id": "66130d37-6405-43b8-aeba-a10a57872b75",
      "cell_type": "markdown",
      "source": "#### Чому використання `super` та наслідування круте?\n\nМи не дублюємо код, а просто викликаємо super().__init__(), передаючи потрібні аргументи.\nЯкщо `Building` зміниться, `CozyHomeBuilding` автоматично підлаштується.",
      "metadata": {}
    },
    {
      "id": "f60d274a-1f3f-451d-a4e5-925efd74495c",
      "cell_type": "markdown",
      "source": "У мене було двоє батьків, чи може у класів також бути двоє батьків?\nТак звісно, і двоє, і троє, і скільки захочеш.\n### 5.1. Типи наслідування в Python\n\n#### a. Одиночне (Single Inheritance)\nОдин клас успадковується від одного батьківського класу.\n\nПриклад: `Skyscraper` успадковується від `Building`.",
      "metadata": {}
    },
    {
      "id": "698e508e-21b2-4ab8-bda3-51cee2ed7239",
      "cell_type": "code",
      "source": "class Building:\n    def __init__(self, levels, color):\n        self.levels = levels\n        self.color = color\n\n    def get_info(self):\n        return f\"A {self.color} building with {self.levels} floors.\"\n\nclass Skyscraper(Building): \n    def __init__(self, levels, color, height):\n        super().__init__(levels, color)\n        self.height = height  # додаємо новий атрибут\n\n    def get_info(self):\n        return super().get_info() + f\" It is {self.height} meters tall.\"\n\nskyscraper = Skyscraper(50, \"gray\", 200)\nprint(skyscraper.get_info())\n",
      "metadata": {
        "trusted": true
      },
      "outputs": [],
      "execution_count": null
    },
    {
      "id": "72417bd8-005a-44b8-be82-e1173ad13eda",
      "cell_type": "markdown",
      "source": "#### b. Множинне (Multiple Inheritance)\nКлас може мати кількох батьків та наслідувати їхні методи та атрибути.\n\nПриклад: `SmartBuilding` наслідується від `Building` і `AutomationSystem`.",
      "metadata": {}
    },
    {
      "id": "a87ca365-2935-4bbf-9e25-c5ab6637bc83",
      "cell_type": "code",
      "source": "class AutomationSystem:\n    def control_lights(self):\n        return \"Lights are now automated.\"\n\nclass SmartBuilding(Building, AutomationSystem):\n    def get_info(self):\n        return super().get_info() + \" It has a smart system.\"\n\nsmart_building = SmartBuilding(10, \"white\")\nprint(smart_building.get_info())\nprint(smart_building.control_lights())\n",
      "metadata": {
        "trusted": true
      },
      "outputs": [],
      "execution_count": null
    },
    {
      "id": "598f4b06-5edb-4e11-b773-b090cc9702bc",
      "cell_type": "markdown",
      "source": "#### c.Ієрархічне (Hierarchical Inheritance)\nОдин клас є батьком для кількох підкласів.\n\nПриклад: `Skyscraper` і `Museum` наслідуються від `Building`.",
      "metadata": {}
    },
    {
      "id": "7a854c4d-0acf-4861-8752-0cfe377d166d",
      "cell_type": "code",
      "source": "class Museum(Building):\n    def __init__(self, levels, color, exhibits):\n        super().__init__(levels, color)\n        self.exhibits = exhibits\n\n    def get_info(self):\n        return super().get_info() + f\" It has {self.exhibits} exhibits.\"\n\nskyscraper = Skyscraper(100, \"blue\", 350)\nmuseum = Museum(3, \"white\", 500)\n\nprint(skyscraper.get_info())\nprint(museum.get_info())\n",
      "metadata": {
        "trusted": true
      },
      "outputs": [],
      "execution_count": null
    },
    {
      "id": "32707b90-4a64-40b4-9fb8-516d455fccea",
      "cell_type": "markdown",
      "source": "#### d.Мультирівневе (Multilevel Inheritance)\nКлас успадковується від класу, який вже є нащадком іншого класу.\n\nПриклад: `SmartSkyscraper` наслідується від `Skyscraper`, а той — від `Building`.",
      "metadata": {}
    },
    {
      "id": "2e515b33-1f1f-4523-9857-12c7970a4531",
      "cell_type": "code",
      "source": "class SmartSkyscraper(Skyscraper):\n    def get_info(self):\n        return super().get_info() + \" It also has AI control.\"\n\nsmart_skyscraper = SmartSkyscraper(120, \"silver\", 450)\nprint(smart_skyscraper.get_info())\n",
      "metadata": {
        "trusted": true
      },
      "outputs": [],
      "execution_count": null
    },
    {
      "id": "2375998f-24d7-4c0c-a60c-7f09993d823d",
      "cell_type": "markdown",
      "source": "#### e.Гібридне (Hybrid Inheritance)\nПоєднання кількох типів наслідування.",
      "metadata": {}
    },
    {
      "id": "d02fef87-7405-47bb-83ed-306499431330",
      "cell_type": "markdown",
      "source": "Все це має бути інтуїтивно зрозуміло, але проблеми виникають тоді, коли у нас є декілька конфліктуючих методів або атрибутів і ми наслідуємося від декількох класів.\nPython знаходить перший по порядку клас за допомогою `MRO`.\n\n**Метод розв'язку методів (MRO)** визначає, в якому порядку Python шукає методи в ієрархії класів.\n\n[трохи більше про mro можна почитати тут](https://www.geeksforgeeks.org/method-resolution-order-in-python-inheritance/)\n\nАле золоте правило для мене таке - який батько ближче до дитини, за тим вона і повторює (і за їхніми батьками). Тобто я все життя жила з мамою, я така сама як вона, якщо моя мама щось не вміє, то я повторюю за бабусею по маминій лінії.\nЯкщо трохи розумніше, то клас-нащадок, буде перевіряти спочатку найлівіших батьків на всіх рівнях (ліво-вверх-ліво-вверх поки не дійде до кінця, потім правіше і теж вверх).",
      "metadata": {}
    },
    {
      "id": "2aee1fb3-2525-4f90-a087-f3a2537dbc29",
      "cell_type": "code",
      "source": "class GrandmaRedBuilding(Building):\n    color = \"red\"\n    \n    def __init__(self, levels, *args, **kwargs):\n        super().__init__(levels, self.color)\n\n    def tell_about_living_person(self):\n        print(\"Hey I'm the women's house!\")\n\n\nclass MomVioletBuilding(GrandmaRedBuilding):\n    color = \"violet\"\n\n\nclass GrandpaYellowBuilding(Building):\n    color = \"yellow\"\n    \n    def __init__(self, levels, *args, **kwargs):\n        super().__init__(levels, self.color)\n        \n\n    def tell_about_living_person(self):\n        print(\"Hey I'm the men's house!\")\n\n    def do_grandpas_stuff(self):\n        print(\"Only grandpa's house can do this! hehe!\")\n\n\nclass DadGreenBuilding(GrandpaYellowBuilding):\n    color = \"green\"\n\n\nclass DaughterHome(MomVioletBuilding, DadGreenBuilding):\n    ...\n\n\nclass SonHome(DadGreenBuilding, MomVioletBuilding):\n    pass",
      "metadata": {
        "trusted": true
      },
      "outputs": [],
      "execution_count": null
    },
    {
      "id": "39c94ab3-8b4f-4dff-9e71-2829a1ebf8b4",
      "cell_type": "code",
      "source": "print(DaughterHome.mro())",
      "metadata": {
        "trusted": true
      },
      "outputs": [],
      "execution_count": null
    },
    {
      "id": "e3097fe8-b373-47b2-b4ec-395f1fad3f85",
      "cell_type": "markdown",
      "source": "Як бачиш, ми спочатку перевірятимемо методи доньки, потім мами, потім бабусі, тільки потім тата і в кінці дідуся.\nДалі ми наслідуємося від основного класу Building + під капотом пайтон наслідує нас від класу object.",
      "metadata": {}
    },
    {
      "id": "cde60540-ffc0-4040-9369-5a99c0fab763",
      "cell_type": "code",
      "source": "daughter_home = DaughterHome(3)\nprint(daughter_home.color) # the same as mama's\ndaughter_home.tell_about_living_person() # the same as grandma's\ndaughter_home.do_grandpas_stuff() # the same as grandpas",
      "metadata": {
        "trusted": true
      },
      "outputs": [],
      "execution_count": null
    },
    {
      "id": "4fb2e1a1-008e-44ef-a5ea-03eb72e57ec6",
      "cell_type": "code",
      "source": "print(SonHome.mro())",
      "metadata": {
        "trusted": true
      },
      "outputs": [],
      "execution_count": null
    },
    {
      "id": "e4d75ce8-95bf-438a-9574-81c986c44359",
      "cell_type": "markdown",
      "source": "Як бачиш, ми спочатку перевірятимемо методи сина, потім тата, потім дідуся, тільки потім мами і в кінці бабусі.\nДалі ми наслідуємося від основного класу Building + під капотом пайтон наслідує нас від класу object.",
      "metadata": {}
    },
    {
      "id": "8a4d8c9f-cdea-48c6-abcb-a7b04ef771dd",
      "cell_type": "code",
      "source": "son_home = SonHome(3)\nprint(son_home.color) # the same as papa's\nson_home.tell_about_living_person() # the same as grandpa's\nson_home.do_grandpas_stuff() # the same as grandpas",
      "metadata": {
        "trusted": true
      },
      "outputs": [],
      "execution_count": null
    },
    {
      "id": "662b450e-b605-4b08-b676-19de7133d5c0",
      "cell_type": "markdown",
      "source": "### 6. Інкапсуляція\n\n**Інкапсуляція** – це принцип ООП, який обмежує прямий доступ до даних класу та дозволяє змінювати їх лише через спеціальні методи. Вона використовується для захисту внутрішнього стану об'єкта від неправильного використання.\n\nВ Python (і усюди мабуть) є три рівні доступу до атрибутів і методів:\n\n-   **публічні (`public`)** – доступні звідусіль\n-   **захищені (`protected`)** – позначаються `_` на початку, їх не варто використовувати за межами класу (але це як рекомендація, по факту якщо ти спробуєш так зробити - у тебе вийде)\n-   **приватні (`private`)** – позначаються `__` на початку, приховані від зовнішнього використання (тут вже якщо спробуєш так зробити, то впаде помилка)\n#### Приклад:",
      "metadata": {}
    },
    {
      "id": "79a7f1b0-6cd0-4ebf-9b1e-8b826a6d9ae4",
      "cell_type": "code",
      "source": "class Building:\n    def __init__(self, levels_number, color, est_year, name=\"Building\"):\n        self.levels_number = levels_number  # public attributes\n        self.color = color\n        self.est_year = est_year\n        self.name = name\n        self._construction_code = \"B123\"  # protected attribute\n        self.__secret_documents = [\"Top Secret\"]  # private attribute\n        \n\n    def get_secret_documents(self):\n        return self.__secret_documents  # when we have private attribute, we can receive the value using methods\n\n    def _set_construction_code(self, code):\n        self._construction_code = code\n\n    def __add_secret_document(self, doc):\n        self.__secret_documents.append(doc)\n",
      "metadata": {
        "trusted": true
      },
      "outputs": [],
      "execution_count": null
    },
    {
      "id": "4778580c-d38c-4478-8a45-6ed19647dba4",
      "cell_type": "code",
      "source": "my_home = Building(5, \"blue\", 2000)\n\nprint(my_home.levels_number)  # all good!! - public access\nprint(my_home._construction_code)  # ⚠️ you can, but why? - protected\nprint(my_home.get_secret_documents())  # ✅ good way to get private",
      "metadata": {
        "trusted": true
      },
      "outputs": [],
      "execution_count": null
    },
    {
      "id": "a86e83fe-b660-4ada-ae9e-10daa0e86c99",
      "cell_type": "code",
      "source": "my_home.__secret_documents # will raise error",
      "metadata": {
        "trusted": true
      },
      "outputs": [],
      "execution_count": null
    },
    {
      "id": "5023784a-372d-48fd-abd7-6c071cfa33b7",
      "cell_type": "code",
      "source": "my_home._set_construction_code(\"NEW CODE\") # works fine, but why?\nprint(my_home._construction_code)",
      "metadata": {
        "trusted": true
      },
      "outputs": [],
      "execution_count": null
    },
    {
      "id": "d15acf85-c42d-44af-826f-6d04777de95d",
      "cell_type": "code",
      "source": "my_home.__add_secret_document(\"New Doc\") # should raise error",
      "metadata": {
        "trusted": true
      },
      "outputs": [],
      "execution_count": null
    },
    {
      "id": "f894b76c-57e2-45fc-a350-172715c937ae",
      "cell_type": "markdown",
      "source": "Python насправді не вміє нормально приховувати атрибути (як це робить наприклад C++) і використовує **name mangling** – зміну імені, щоб зробити приватні атрибути менш доступними (ховає їх від тебе, тому ти не можеш знайти їх по тому імені, що записав). \nАле їх можна дістати:",
      "metadata": {}
    },
    {
      "id": "fecc6588-e0ea-4993-93a7-13c833f04a67",
      "cell_type": "code",
      "source": "print(my_home._Building__secret_documents)",
      "metadata": {
        "trusted": true
      },
      "outputs": [],
      "execution_count": null
    },
    {
      "id": "bf589dbf-2b55-4140-a3f3-2724b41658e6",
      "cell_type": "markdown",
      "source": "Але те, що можна - не значить, що потрібно!! ти так не роби, але про такий функціионал знай!\nНа цьому поки що все!\n\n#### Що лишилося з теми ООП:\n\n- що таке метакласи\n- що таке поліморфізм і чого у пайтоні він не такий як у інших мовах\n- коротко що таке декоратори для наступного пункту\n- що таке classmethod та cls\n- що таке staticmethod\n- що таке __new__ / __init__\n- які є сеттери, геттери та делетери і для чого вони\n- що таке композиція і коли вона краще за наслідування\n- що таке абстракція\n- основні магічні методи класів",
      "metadata": {}
    },
    {
      "id": "67b0908f-9e6a-47b7-b09f-ce35f17f167a",
      "cell_type": "code",
      "source": "",
      "metadata": {
        "trusted": true
      },
      "outputs": [],
      "execution_count": null
    }
  ]
}