{
  "metadata": {
    "kernelspec": {
      "name": "python",
      "display_name": "Python (Pyodide)",
      "language": "python"
    },
    "language_info": {
      "codemirror_mode": {
        "name": "python",
        "version": 3
      },
      "file_extension": ".py",
      "mimetype": "text/x-python",
      "name": "python",
      "nbconvert_exporter": "python",
      "pygments_lexer": "ipython3",
      "version": "3.8"
    }
  },
  "nbformat_minor": 5,
  "nbformat": 4,
  "cells": [
    {
      "id": "cab6595a-9489-4863-9ef9-b7ee42550420",
      "cell_type": "markdown",
      "source": "Цей урок охоплює основи обʼєктно-орієнтованого програмування (ООП) в Python.\n\n---\n\n### 1. Що таке клас?\n\n**Клас** в Python — це шаблон або модель для створення об'єктів. Він визначає атрибути (характеристики) та методи (функції), які будуть доступні об'єктам цього класу.\n\nУяви, що клас — це план будівництва, а об'єкти — це конкретні будівлі, побудовані за цим планом.\n\n#### Приклад:\n",
      "metadata": {}
    },
    {
      "id": "7b68e08e-8a1d-465e-b193-6a5da786e326",
      "cell_type": "code",
      "source": "class Building:\n    pass  # клас без функціональності, просто шаблон\n\nhome1 = Building()  # створення об'єкта home1 класу Building",
      "metadata": {
        "trusted": true
      },
      "outputs": [],
      "execution_count": 2
    },
    {
      "id": "8450f20e-782b-4127-acac-5af52350d644",
      "cell_type": "markdown",
      "source": "### 2. Що таке об'єкти?\n*Об'єкти* — це екземпляри класу. Якщо клас — це шаблон, то об'єкти — це його конкретні реалізації. Об'єкти мають атрибути (характеристики) і можуть викликати методи (дії).\nУ попередньому прикладі клас `Building` має обʼєкт `home1`. Ще кажуть, що `home1` - обʼєкт класу `Building` або те, що тип змінної `home1` - `Building`. \n\n*Так, `a = 1` має тип `int`, тобто є обʼєктом класу `int`.*\n",
      "metadata": {}
    },
    {
      "id": "9bedf290-ab8d-4323-b47b-33743c547364",
      "cell_type": "markdown",
      "source": "### 3. Конструктор __init__(self)\n**Конструктор** - це місце ініціалізації екземплярів класів. У python це магічна функція (або краще сказати метод) `__init__()`.\nПри ініціалізації ми встановлюємо всі початкові атрибути, які має мати обʼєкт. \n\n*Наприклад, перший наш дім має 9 поверхів, сірого кольору і побудований у 1999 році. Другий дім має 2 поверхи, червоного кольору та побудований у 2022 році.*\n\nЦі аргументи маємо прийняти у функції `__init__` та поставити їх обʼєктам.\n\n**Важливо знати**, що першим аргументом у всіх методах (крім *classmethod* та *staticmethod*, але про це нижче) є слово **self**.\n\n**self** - це вказівник на обʼєкт всередині класу. \n\n*Так, ми створюємо якийсь дім за шаблоном та за допомогою **self** можемо встановити потрібні нам характеристики.* \n\nЗвучить складно, буде легше за прикладом, але варто розуміти, що self - це як я для обʼєкта.\n#### Приклад:",
      "metadata": {}
    },
    {
      "id": "e04c0f93-8ffa-4f9c-9d0a-acb3f3d269b2",
      "cell_type": "code",
      "source": "class Building:\n    def __init__(self, levels_number: int, color: str, est_year: int):\n        self.levels_number = levels_number\n        self.color = color\n        self.established_at = est_year\n\n\n\nskyscrapper = Building(9, \"gray\", 1999)\nhome = Building(2, color=\"red\", est_year=2022)",
      "metadata": {
        "trusted": true
      },
      "outputs": [],
      "execution_count": 12
    },
    {
      "id": "b6b40ab5-4f8d-400b-bed0-35bdce37b176",
      "cell_type": "markdown",
      "source": "Роздрукуємо типи `skyscrapper` та `home`:",
      "metadata": {}
    },
    {
      "id": "2537878f-29c2-4ef6-ad77-bf50bc997508",
      "cell_type": "code",
      "source": "print(type(skyscrapper), type(home))",
      "metadata": {
        "trusted": true
      },
      "outputs": [
        {
          "name": "stdout",
          "output_type": "stream",
          "text": "<class '__main__.Building'> <class '__main__.Building'>\n"
        }
      ],
      "execution_count": 8
    },
    {
      "id": "2ab7fd69-b768-40c2-b17f-7f7ccfde8d48",
      "cell_type": "code",
      "source": "print(f\"First house is {skyscrapper.color} but the second one is more fun, it's {home.color}!\")",
      "metadata": {
        "trusted": true
      },
      "outputs": [
        {
          "name": "stdout",
          "output_type": "stream",
          "text": "First house is gray but the second one is more fun, it's red!\n"
        }
      ],
      "execution_count": 13
    },
    {
      "id": "556c2678-46c3-4c20-b58b-944eaa202824",
      "cell_type": "markdown",
      "source": "Тепер додамо функціонал для того, щоб виводити гарно всі атрибути для кожного обʼєкту, а також додамо дефолтний аргумент `name`:",
      "metadata": {}
    },
    {
      "id": "9d71781b-64da-4329-993c-665e0c2291ff",
      "cell_type": "code",
      "source": "class Building:\n    def __init__(self, levels_number: int, color: str, est_year: int, name: str = \"Building\"):\n        self.levels_number = levels_number\n        self.color = color\n        self.established_at = est_year\n        self.name = name\n\n    def get_info(self):\n        return f\"Hey I'm {self.name}! I was built in {self.established_at}, I was made {self.color} with {self.levels_number} floors.\"\n\n\nskyscrapper = Building(9, \"gray\", 1999)\nhome = Building(2, color=\"red\", est_year=2022, name=\"Sunny\")\n\nprint(skyscrapper.get_info())\nprint()\nprint(home.get_info())",
      "metadata": {
        "trusted": true
      },
      "outputs": [
        {
          "name": "stdout",
          "output_type": "stream",
          "text": "Hey I'm Building! I was built in 1999, I was made gray with 9 floors.\n\nHey I'm Sunny! I was built in 2022, I was made red with 2 floors.\n"
        }
      ],
      "execution_count": 15
    },
    {
      "id": "a6f3d333-2cfd-4b0d-9d0f-fbfb4e215153",
      "cell_type": "markdown",
      "source": "### 4. Методи та Атрибути\n\n**Атрибути** — це характеристики об'єкта. У класі `Building` атрибутами є:\n\n-   `levels_number`: кількість поверхів.\n-   `color`: колір будівлі.\n-   `established_at`: рік побудови.\n-   `name`: назва будівлі.\n\n**Методи** — це функції, які описують поведінку об'єкта. У класі `Building` метод `get_info()` надає інформацію про будівлю.\n\nАтрибути можуть бути атрибутами класу, тоді вони можуть бути як дефолтними параметрами, які ми можемо змінювати під кожен обʼєкт.\n#### Приклад:",
      "metadata": {}
    },
    {
      "id": "f87393e8-1aed-47d3-89e7-6684beeeadfd",
      "cell_type": "code",
      "source": "class Building:\n    # class attributes\n    builder_company = None\n    is_under_construction = False\n    \n    def __init__(self, levels_number: int, color: str, est_year: int, name: str = \"Building\", builder_company = None):\n        self.levels_number = levels_number\n        self.color = color\n        self.established_at = est_year\n        self.name = name\n        if builder_company:\n            self.builder_company = builder_company\n\n    def get_info(self):\n        info = f\"Hey I'm {self.name}! I was built in {self.established_at}, I was made {self.color} with {self.levels_number} floors.\"\n        # getting class attrs by self as the usual ones\n        if self.builder_company:\n            info += f\"\\nI was built by `{self.builder_company}`!\"\n        if self.is_under_construction:\n            info += f\"\\nSorry, you cannot live in me yet :(\"\n        return info\n\n    def do_constructions(self):\n        print(\"Building......\")\n        self.is_under_construction = True\n",
      "metadata": {
        "trusted": true
      },
      "outputs": [],
      "execution_count": 18
    },
    {
      "id": "96d01c45-6601-43e5-8bbe-d9863fb5240c",
      "cell_type": "code",
      "source": "lviv_city_building = Building(levels_number=2, color=\"gray\", est_year=1990)\nprint(lviv_city_building.get_info())",
      "metadata": {
        "trusted": true
      },
      "outputs": [
        {
          "name": "stdout",
          "output_type": "stream",
          "text": "Hey I'm Building! I was built in 1990, I was made gray with 2 floors.\n"
        }
      ],
      "execution_count": 19
    },
    {
      "id": "474c6405-6128-4369-8461-6c7e5d2a4c6e",
      "cell_type": "code",
      "source": "lviv_city_building.do_constructions()",
      "metadata": {
        "trusted": true
      },
      "outputs": [
        {
          "name": "stdout",
          "output_type": "stream",
          "text": "Building......\n"
        }
      ],
      "execution_count": 20
    },
    {
      "id": "249a381f-2dbd-4ea3-ae88-eff07febed22",
      "cell_type": "code",
      "source": "print(lviv_city_building.get_info())",
      "metadata": {
        "trusted": true
      },
      "outputs": [
        {
          "name": "stdout",
          "output_type": "stream",
          "text": "Hey I'm Building! I was built in 1990, I was made gray with 2 floors.\nSorry, you cannot live in me yet :(\n"
        }
      ],
      "execution_count": 21
    },
    {
      "id": "3458640c-f308-4bf3-b319-42a5c1ffbd3d",
      "cell_type": "code",
      "source": "avalon_house = Building(levels_number=2, color=\"gray\", est_year=1990, builder_company=\"Avalon\")\nprint(avalon_house.get_info())",
      "metadata": {
        "trusted": true
      },
      "outputs": [
        {
          "name": "stdout",
          "output_type": "stream",
          "text": "Hey I'm Building! I was built in 1990, I was made gray with 2 floors.\nI was built by `Avalon`!\n"
        }
      ],
      "execution_count": 22
    },
    {
      "id": "d2c40c55-05df-45e5-a51d-03d457d5a5d0",
      "cell_type": "markdown",
      "source": "*Уявімо, до нас прийшов забудовник **Avalon**, який має мережу ЖК у Львові, і хоче задокументувати всі свої будинки. \nВони будуть всі чорними, та всі назви починаються зі слова \"Avalon\", а закінчуються словом \"ЖК\".\nДавай створимо 5 таких будинків:*",
      "metadata": {}
    },
    {
      "id": "87210a11-30f0-4ad7-b190-d0f00c8924e2",
      "cell_type": "code",
      "source": "avalon_skyscrapper1 = Building(22, \"black\", 2018, \"Avalon Prime ЖК\", builder_company=\"Avalon\")\navalon_skyscrapper2 = Building(18, \"black\", 2019, \"Avalon Gold ЖК\", builder_company=\"Avalon\")\navalon_skyscrapper3 = Building(20, \"black\", 2018, \"Avalon Ultra ЖК\", builder_company=\"Avalon\")\navalon_skyscrapper4 = Building(22, \"black\", 2022, \"Avalon UK ЖК\", builder_company=\"Avalon\")\navalon_skyscrapper5 = Building(21, \"black\", 2023, \"Avalon City ЖК\", builder_company=\"Avalon\")\n\nprint(avalon_skyscrapper1.get_info())\nprint()\nprint(avalon_skyscrapper4.get_info())",
      "metadata": {
        "trusted": true
      },
      "outputs": [
        {
          "name": "stdout",
          "output_type": "stream",
          "text": "Hey I'm Avalon Prime ЖК! I was built in 2018, I was made black with 22 floors.\nI was built by `Avalon`!\n\nHey I'm Avalon UK ЖК! I was built in 2022, I was made black with 22 floors.\nI was built by `Avalon`!\n"
        }
      ],
      "execution_count": 23
    },
    {
      "id": "a6c692eb-c937-4ec6-8f10-1c1fcc760bc9",
      "cell_type": "markdown",
      "source": "Непогано? Але може бути краще!\nДля цього нам знадобиться **наслідування**!\n### 5. Наслідування\n**Наслідування** - це те саме, як воно звучить. Клас - це шаблон побудови обʼєктів. Наслідування дозволяє нам перевикористовувати шаблони з деякими змінами (або навіть без них) для кращої структуризації, а також для того, щоб писати менше коду\n#### Приклад:",
      "metadata": {}
    },
    {
      "id": "9648d5bb-3f57-4f2f-a9f7-5231897efd3c",
      "cell_type": "code",
      "source": "# the same as the parent class, just with another name\n\nclass LvivCityBuilding(Building):\n    pass\n\n\nclass AvalonBuilding(Building):\n    builder_company = \"Avalon\"\n    color = \"black\"\n    \n    def __init__(self, levels_number: int, est_year: int, name: str):\n        name = f\"Avalon {name} ЖК\"\n        super().__init__(\n            levels_number=levels_number, \n            est_year=est_year, \n            name=name, \n            color=self.color,\n            builder_company = self.builder_company\n        )\n",
      "metadata": {
        "trusted": true
      },
      "outputs": [],
      "execution_count": 24
    },
    {
      "id": "a5af0c60-233e-4bae-beff-30a80e69184c",
      "cell_type": "code",
      "source": "avalon_skyscrapper1 = AvalonBuilding(22, 2018, \"Prime\")\navalon_skyscrapper2 = AvalonBuilding(18, 2019, \"Gold\")\navalon_skyscrapper3 = AvalonBuilding(20, 2018, \"Ultra\")\navalon_skyscrapper4 = AvalonBuilding(22, 2022, \"UK\")\navalon_skyscrapper5 = AvalonBuilding(21, 2023, \"City\")",
      "metadata": {
        "trusted": true
      },
      "outputs": [],
      "execution_count": 25
    },
    {
      "id": "ca55f9d0-ec1f-4cc2-8583-3ae7376e3203",
      "cell_type": "markdown",
      "source": "так краще, правда?",
      "metadata": {}
    },
    {
      "id": "1eb98d2f-6f64-48a1-874b-43fcdaa36626",
      "cell_type": "code",
      "source": "print(type(avalon_skyscrapper2))",
      "metadata": {
        "trusted": true
      },
      "outputs": [
        {
          "name": "stdout",
          "output_type": "stream",
          "text": "<class '__main__.AvalonBuilding'>\n"
        }
      ],
      "execution_count": 27
    },
    {
      "id": "955e3fc8-62b4-49f9-9c26-5f3a99a12ff4",
      "cell_type": "code",
      "source": "print(avalon_skyscrapper2.get_info())",
      "metadata": {
        "trusted": true
      },
      "outputs": [
        {
          "name": "stdout",
          "output_type": "stream",
          "text": "Hey I'm Avalon Gold ЖК! I was built in 2019, I was made black with 18 floors.\nI was built by `Avalon`!\n"
        }
      ],
      "execution_count": 28
    },
    {
      "id": "cbe51bdf-73c6-4a5b-9641-f0aac0f01fd1",
      "cell_type": "markdown",
      "source": "як бачиш, нам не треба переписувати функціонал, який вже існує",
      "metadata": {}
    },
    {
      "id": "66079900-db68-4c7c-be7b-aee011649a45",
      "cell_type": "code",
      "source": "",
      "metadata": {
        "trusted": true
      },
      "outputs": [],
      "execution_count": null
    }
  ]
}